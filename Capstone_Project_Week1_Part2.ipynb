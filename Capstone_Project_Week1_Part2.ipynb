{
 "cells": [
  {
   "cell_type": "markdown",
   "metadata": {},
   "source": [
    "<h1>Capstone Project - The Battle of Neighborhoods (Week 1)"
   ]
  },
  {
   "cell_type": "markdown",
   "metadata": {},
   "source": [
    "<h2>Data</h2>\n",
    "<p>In order to help the client to determine the best place to open a Cinema in Buenos Aires we will need the following set of data:</p>\n",
    "<ul>\n",
    "    <li>The Barrios and its coordinates from Buenos Aires, Argentina: https://raw.githubusercontent.com/diecou/ds-training/master/buenos_aires_coor.csv\n",
    "    <li>The following venues data from Foursquare:\n",
    "        <ul>\n",
    "            <li>Cinema venues of the Barrios\n",
    "            <li>Restaurant venues of the Barrios\n",
    "            <li>Theater venues of the Barrios\n",
    "        </ul>\n",
    "</ul>\n",
    "<p>These venus will be weighted so we can determine which is the best barrio to open a new cinema"
   ]
  },
  {
   "cell_type": "code",
   "execution_count": null,
   "metadata": {},
   "outputs": [],
   "source": []
  }
 ],
 "metadata": {
  "kernelspec": {
   "display_name": "Python 3",
   "language": "python",
   "name": "python3"
  },
  "language_info": {
   "codemirror_mode": {
    "name": "ipython",
    "version": 3
   },
   "file_extension": ".py",
   "mimetype": "text/x-python",
   "name": "python",
   "nbconvert_exporter": "python",
   "pygments_lexer": "ipython3",
   "version": "3.6.6"
  }
 },
 "nbformat": 4,
 "nbformat_minor": 2
}
